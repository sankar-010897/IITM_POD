{
  "nbformat": 4,
  "nbformat_minor": 0,
  "metadata": {
    "colab": {
      "provenance": [],
      "authorship_tag": "ABX9TyP9FxQWUDkIIMBsF5zm48NP",
      "include_colab_link": true
    },
    "kernelspec": {
      "name": "python3",
      "display_name": "Python 3"
    },
    "language_info": {
      "name": "python"
    }
  },
  "cells": [
    {
      "cell_type": "markdown",
      "metadata": {
        "id": "view-in-github",
        "colab_type": "text"
      },
      "source": [
        "<a href=\"https://colab.research.google.com/github/sankar-010897/IITM_ProgrammingDiploma/blob/main/python_fundamentals.ipynb\" target=\"_parent\"><img src=\"https://colab.research.google.com/assets/colab-badge.svg\" alt=\"Open In Colab\"/></a>"
      ]
    },
    {
      "cell_type": "markdown",
      "source": [
        "Week-1 PPA"
      ],
      "metadata": {
        "id": "_BpalJyPjEBk"
      }
    },
    {
      "cell_type": "code",
      "execution_count": 4,
      "metadata": {
        "colab": {
          "base_uri": "https://localhost:8080/"
        },
        "id": "mKasgB4sf0Pt",
        "outputId": "af979ac0-380b-4203-e4e2-96cfde731199"
      },
      "outputs": [
        {
          "output_type": "stream",
          "name": "stdout",
          "text": [
            "1\n",
            "2\n",
            "3\n",
            "4\n",
            "5\n"
          ]
        }
      ],
      "source": [
        "#Week-1 PPA-1 (print first 5 positive int)\n",
        "for i in range(1,6):\n",
        "    print(i)"
      ]
    },
    {
      "cell_type": "code",
      "source": [
        "#Week-1 PPA-2 (print pattern)\n",
        "for i in range(1,6):\n",
        "    for j in range(1,i+1):\n",
        "        if j != i :\n",
        "            print('*', end = '')\n",
        "        else:\n",
        "            print('*')"
      ],
      "metadata": {
        "id": "weiJ7SWMgEGg"
      },
      "execution_count": null,
      "outputs": []
    },
    {
      "cell_type": "code",
      "source": [
        "#Week-1 PPA-3 (square of an int)\n",
        "n = int(input())\n",
        "print(n ** 2)"
      ],
      "metadata": {
        "id": "eELDcmNyh2f9"
      },
      "execution_count": null,
      "outputs": []
    },
    {
      "cell_type": "code",
      "source": [
        "#Week-1 PPA-4 (add 2 integers)\n",
        "m = int(input())\n",
        "n = int(input())\n",
        "print(m + n)"
      ],
      "metadata": {
        "id": "1gin41YtiFoI"
      },
      "execution_count": null,
      "outputs": []
    },
    {
      "cell_type": "code",
      "source": [
        "#Week-1 PPA-5 (add 2 words with space b/w them)\n",
        "w1 = input()\n",
        "w2 = input()\n",
        "print(w1 + ' ' + w2)"
      ],
      "metadata": {
        "id": "S51u5SE0iWkz"
      },
      "execution_count": null,
      "outputs": []
    },
    {
      "cell_type": "code",
      "source": [
        "#Week-1 PPA-6(get state from license plate)\n",
        "reg_num = input()\n",
        "print(reg_num[0:2])"
      ],
      "metadata": {
        "id": "wBJxE64ZimXy"
      },
      "execution_count": null,
      "outputs": []
    },
    {
      "cell_type": "code",
      "source": [
        "#Week-1 PPA-7(sum of digits)\n",
        "n = input()\n",
        "dig_sum = 0\n",
        "for i in range(len(n)):\n",
        "    dig_sum = dig_sum + int(n[i])\n",
        "print(dig_sum)"
      ],
      "metadata": {
        "id": "aoPbvudLi2uK"
      },
      "execution_count": null,
      "outputs": []
    },
    {
      "cell_type": "code",
      "source": [
        "#Week-1 PPA-9(students who have taken DS course)\n",
        "roll_num = input()\n",
        "if roll_num[0:2] == 'DS':\n",
        "    print(True)\n",
        "else:\n",
        "    print(False)"
      ],
      "metadata": {
        "id": "YiQtOYyNjvhD"
      },
      "execution_count": null,
      "outputs": []
    },
    {
      "cell_type": "code",
      "source": [
        "#Week-1 PPA-10 (license plate having \"TN07\" in them)\n",
        "num_plate = input()\n",
        "\n",
        "if 'TN07' in num_plate:\n",
        "    print(True)\n",
        "else:\n",
        "    print(False)"
      ],
      "metadata": {
        "id": "C78ZkcTJlBBN"
      },
      "execution_count": null,
      "outputs": []
    },
    {
      "cell_type": "code",
      "source": [
        "#Week-1 PPA-11 (absolute difference)\n",
        "a = int(input())\n",
        "b = int(input())\n",
        "if a < b:\n",
        "    print(b-a)\n",
        "else:\n",
        "    print(a-b)"
      ],
      "metadata": {
        "id": "LV0mfroelY5F"
      },
      "execution_count": null,
      "outputs": []
    },
    {
      "cell_type": "code",
      "source": [
        "#Week-1 PPA-12(substring with len greater than original string)\n",
        "string = input()\n",
        "start = int(input())\n",
        "end = int(input())\n",
        "out = ''\n",
        "while len(out) <= len(string):\n",
        "    out = out + string[start : end+1]\n",
        "print(out)"
      ],
      "metadata": {
        "id": "aDj1iPmglu0J"
      },
      "execution_count": null,
      "outputs": []
    },
    {
      "cell_type": "code",
      "source": [
        "#Week-1 PPA-13 (continued fraction)\n",
        "x = int(input())\n",
        "cfrac = x + (1/x)\n",
        "for i in range(0,5):\n",
        "    cfrac = x + (1/cfrac)\n",
        "\n",
        "print(cfrac)"
      ],
      "metadata": {
        "id": "npR-f0WFmoBr"
      },
      "execution_count": null,
      "outputs": []
    },
    {
      "cell_type": "markdown",
      "source": [
        "Week-1 GPA"
      ],
      "metadata": {
        "id": "bLm70JQkjKuP"
      }
    },
    {
      "cell_type": "code",
      "source": [
        "#Week-1 GPA-1 (create a sentence from given 5 words)\n",
        "words = []\n",
        "for i in range(5):\n",
        "  words.append(input())\n",
        "sentence = ''\n",
        "for i in range(5):\n",
        "  if i != 4:\n",
        "    sentence = sentence + words[i] + \" \"\n",
        "  else:\n",
        "    sentence = sentence + words[i] + \".\"\n",
        "print(sentence)"
      ],
      "metadata": {
        "colab": {
          "base_uri": "https://localhost:8080/"
        },
        "id": "XH0dCKuIn2D-",
        "outputId": "66cb46cf-183b-47a1-fb94-2f3e57120a6f"
      },
      "execution_count": 5,
      "outputs": [
        {
          "output_type": "stream",
          "name": "stdout",
          "text": [
            "I\n",
            "am\n",
            "a\n",
            "good\n",
            "boy\n",
            "I am a good boy.\n"
          ]
        }
      ]
    },
    {
      "cell_type": "code",
      "source": [
        "#Week-1 GPA-2(get year from date in dd-mm-yyyy format)\n",
        "date = input()\n",
        "print(int(date[-4:]))"
      ],
      "metadata": {
        "colab": {
          "base_uri": "https://localhost:8080/"
        },
        "id": "6lz8uyG4okPw",
        "outputId": "904f2177-2053-41a3-cc73-29c1ff82b883"
      },
      "execution_count": 7,
      "outputs": [
        {
          "output_type": "stream",
          "name": "stdout",
          "text": [
            "23-11-2022\n",
            "2022\n"
          ]
        }
      ]
    },
    {
      "cell_type": "code",
      "source": [
        "#Week-1 GPA-3 (product of nums in comma sepearted seq)\n",
        "nums = input()\n",
        "product = 1\n",
        "for i in nums:\n",
        "  if i != ',':\n",
        "    product = product * int(i)\n",
        "print(product)"
      ],
      "metadata": {
        "colab": {
          "base_uri": "https://localhost:8080/"
        },
        "id": "nfUmQHGGo5h-",
        "outputId": "53d14f4b-e49e-4ae5-ccf8-6f7367b1676c"
      },
      "execution_count": 8,
      "outputs": [
        {
          "output_type": "stream",
          "name": "stdout",
          "text": [
            "1,2,3,4,5\n",
            "120\n"
          ]
        }
      ]
    },
    {
      "cell_type": "code",
      "source": [
        "#Week-1 GPA-4 ( collect individual info from email)\n",
        "email = input()\n",
        "data = [email[0:2],email[3:5],email[6:8],email[9:13],email[35:39]]\n",
        "for i in data:\n",
        "  print(i)"
      ],
      "metadata": {
        "colab": {
          "base_uri": "https://localhost:8080/"
        },
        "id": "hPgkagDPprvb",
        "outputId": "f2dd8e67-4a0c-4f33-9f99-12fd6e5916e3"
      },
      "execution_count": 13,
      "outputs": [
        {
          "output_type": "stream",
          "name": "stdout",
          "text": [
            "CS_BT_21_7412@student.onlinedegree.iitm.ac.in\n",
            "CS\n",
            "BT\n",
            "21\n",
            "7412\n",
            "iitm\n"
          ]
        }
      ]
    },
    {
      "cell_type": "code",
      "source": [
        "#Week-1 GPA-5 (num of digits in x raised to y)\n",
        "x = int(input())\n",
        "y = int(input())\n",
        "print(len(str(x ** y)))"
      ],
      "metadata": {
        "colab": {
          "base_uri": "https://localhost:8080/"
        },
        "id": "cV4MVCdNqlfj",
        "outputId": "1e794a77-682b-4b0e-89e2-282e4de354b5"
      },
      "execution_count": 16,
      "outputs": [
        {
          "output_type": "stream",
          "name": "stdout",
          "text": [
            "3\n",
            "5\n",
            "3\n"
          ]
        }
      ]
    },
    {
      "cell_type": "code",
      "source": [
        "#Week-1 GPA-6(Modulo as repeated subtratction till remainder is found)\n",
        "m = int(input())\n",
        "n = int(input())\n",
        "while m >= n:\n",
        "  m = m-n\n",
        "if m < n:\n",
        "  print(m)"
      ],
      "metadata": {
        "colab": {
          "base_uri": "https://localhost:8080/"
        },
        "id": "bhj6lUmcrkLL",
        "outputId": "f7bf1fb2-5584-4356-a448-64d9428c4707"
      },
      "execution_count": 17,
      "outputs": [
        {
          "output_type": "stream",
          "name": "stdout",
          "text": [
            "5\n",
            "2\n",
            "1\n"
          ]
        }
      ]
    },
    {
      "cell_type": "markdown",
      "source": [
        "Week-2 PPA"
      ],
      "metadata": {
        "id": "c2RmE6gijO3c"
      }
    },
    {
      "cell_type": "code",
      "source": [
        "#Week-2 PPA-1\n",
        "n = int(input())\n",
        "if n >= 0:\n",
        "    print('positive')\n",
        "else:\n",
        "    print('negative')"
      ],
      "metadata": {
        "id": "bTdsOJoFsXbi"
      },
      "execution_count": null,
      "outputs": []
    },
    {
      "cell_type": "code",
      "source": [
        "#Week-2 PPA-2\n",
        "x = float(input())\n",
        "\n",
        "if 0 < x < 10:\n",
        "    print(x + 2)\n",
        "elif x >= 10:\n",
        "    print((x ** 2) + 2)\n",
        "else:\n",
        "    print(0)"
      ],
      "metadata": {
        "id": "WJ5jmdaPYQmp"
      },
      "execution_count": null,
      "outputs": []
    },
    {
      "cell_type": "code",
      "source": [
        "#Week-2 PPA-2\n",
        "t = int(input())\n",
        "\n",
        "if t < 0 or t >= 24:\n",
        "    print('INVALID')\n",
        "elif 0 <= t <= 5 or 18 <= t <= 23:\n",
        "    print('NIGHT')\n",
        "elif 6 <= t <= 11:\n",
        "    print('MORNING')\n",
        "else:\n",
        "    print('AFTERNOON')"
      ],
      "metadata": {
        "id": "QSOUTacdZaVt"
      },
      "execution_count": null,
      "outputs": []
    },
    {
      "cell_type": "code",
      "source": [
        "#Week-2 PPA-2\n",
        "x = float(input())\n",
        "y = float (input())\n",
        "\n",
        "if x > 0:\n",
        "    if y > 0:\n",
        "        print('first')\n",
        "    elif y < 0:\n",
        "        print('fourth')\n",
        "    elif y == 0 :\n",
        "        print('x-axis')\n",
        "\n",
        "elif x < 0:\n",
        "    if y > 0:\n",
        "        print('second')\n",
        "    elif y < 0:\n",
        "        print('third')\n",
        "    elif y == 0 :\n",
        "        print('x-axis')\n",
        "\n",
        "elif x == 0:\n",
        "    if y == 0:\n",
        "        print('origin')\n",
        "    else:\n",
        "        print('y-axis')\n",
        "    "
      ],
      "metadata": {
        "id": "eoWc2q92anwO"
      },
      "execution_count": null,
      "outputs": []
    },
    {
      "cell_type": "markdown",
      "source": [
        "Week-2 GPA"
      ],
      "metadata": {
        "id": "n1zGCurwjVIU"
      }
    },
    {
      "cell_type": "code",
      "source": [
        "#Week-2 GPA1\n",
        "x = int(input())\n",
        "y = int(input())\n",
        "z = int(input())\n",
        "\n",
        "if ((x ** 2 + y ** 2 == z ** 2) or\n",
        "    (y ** 2 + z ** 2 == x ** 2) or\n",
        "    (z ** 2 + x ** 2 == y ** 2)):\n",
        "  print('YES')\n",
        "else:\n",
        "  print('NO')"
      ],
      "metadata": {
        "id": "tvM4VFEgbjXT"
      },
      "execution_count": null,
      "outputs": []
    },
    {
      "cell_type": "code",
      "source": [
        "#Week-2 GPA2\n",
        "e1 = int(input())\n",
        "e2 = int(input())\n",
        "e3 = int(input())\n",
        "e4 = int(input())\n",
        "e5 = int(input())\n",
        "\n",
        "if (e1 + e2) % 2 != 0:\n",
        "    print('NO')\n",
        "elif (e2 + e3) % 2 != 0:\n",
        "    print('NO')\n",
        "elif (e3 + e4) % 2 != 0:\n",
        "    print('NO')\n",
        "elif (e4 + e5) % 2 != 0:\n",
        "    print('NO')\n",
        "elif (e5 + e1) % 2 != 0:\n",
        "    print('NO')\n",
        "\n",
        "else:\n",
        "    print('YES')"
      ],
      "metadata": {
        "id": "sROeHM-2b0gp"
      },
      "execution_count": null,
      "outputs": []
    },
    {
      "cell_type": "code",
      "source": [
        "#Week-2 GPA3\n",
        "input_string = input().lower()\n",
        "vowels = \"\"\n",
        "if \"a\" in input_string:\n",
        "    vowels += \"a\"\n",
        "if \"e\" in input_string:\n",
        "    vowels += \"e\"\n",
        "if \"i\" in input_string:\n",
        "    vowels += \"i\"\n",
        "if \"o\" in input_string:\n",
        "    vowels += \"o\"\n",
        "if \"u\" in input_string:\n",
        "    vowels += \"u\"\n",
        "\n",
        "if vowels != \"\":\n",
        "    print(vowels)\n",
        "else:\n",
        "    print('none')"
      ],
      "metadata": {
        "id": "evIA1xN6b9wO"
      },
      "execution_count": null,
      "outputs": []
    },
    {
      "cell_type": "code",
      "source": [
        "#Week-2 GPA4\n",
        "c1_name = input()   \n",
        "c1_dob = input()    \n",
        "c2_name = input()   \n",
        "c2_dob = input()    \n",
        "\n",
        "\n",
        "c1_dob_day, c1_dob_month, c1_dob_year = int(c1_dob[: 2]), int(c1_dob[3 : 5]), int(c1_dob[6: ])\n",
        "c2_dob_day, c2_dob_month, c2_dob_year = int(c2_dob[: 2]), int(c2_dob[3 : 5]), int(c2_dob[6: ])\n",
        "\n",
        "younger = ''    \n",
        "if c1_dob_year > c2_dob_year:\n",
        "    younger = c1_name   \n",
        "elif c2_dob_year > c1_dob_year:\n",
        "    younger = c2_name   \n",
        "else:\n",
        "    if c1_dob_month > c2_dob_month:\n",
        "        younger = c1_name\n",
        "    elif c2_dob_month > c1_dob_month:\n",
        "        younger = c2_name\n",
        "    else:\n",
        "        if c1_dob_day > c2_dob_day:\n",
        "            younger = c1_name\n",
        "        elif c2_dob_day > c1_dob_day:\n",
        "            younger = c2_name\n",
        "\n",
        "        else:\n",
        "            if c1_name < c2_name:\n",
        "                younger = c1_name  \n",
        "            else:\n",
        "                younger = c2_name  \n",
        "print(younger)"
      ],
      "metadata": {
        "id": "yvaLm7lucFEc"
      },
      "execution_count": null,
      "outputs": []
    },
    {
      "cell_type": "code",
      "source": [
        "#Week-2 GPA5\n",
        "pw = input()\n",
        "valid = False\n",
        "if 8 <= len(pw) <= 32:\n",
        "    if 'a' <= pw[0] <= 'z' or 'A' <= pw[0] <= 'Z':\n",
        "        if not('/' in pw or '\\\\' in pw or '=' in pw or \"'\" in pw or '\"' in pw or ' ' in pw):\n",
        "            valid = True\n",
        "print(valid)"
      ],
      "metadata": {
        "id": "xczHVQS7ca_g"
      },
      "execution_count": null,
      "outputs": []
    },
    {
      "cell_type": "markdown",
      "source": [
        "Week-3 GPA"
      ],
      "metadata": {
        "id": "ElySDb42jS2y"
      }
    },
    {
      "cell_type": "code",
      "source": [
        "#Week-3 GPA1\n",
        "n = int(input())\n",
        "total = 0\n",
        "for i in range(1, n + 1):\n",
        "    for j in range(1, i + 1):\n",
        "        total = total + j\n",
        "print(total)"
      ],
      "metadata": {
        "id": "x3088BlGcsqJ"
      },
      "execution_count": null,
      "outputs": []
    },
    {
      "cell_type": "code",
      "source": [
        "#Week-3 GPA2\n",
        "n = int(input())\n",
        "for f in range(2, n + 1):\n",
        "    if n % f == 0:\n",
        "        is_prime = True\n",
        "        for i in range(2, f):\n",
        "            if f % i == 0:\n",
        "                is_prime = False\n",
        "                break\n",
        "        if is_prime:\n",
        "            print(f)"
      ],
      "metadata": {
        "id": "zl64pnWXc09H"
      },
      "execution_count": null,
      "outputs": []
    },
    {
      "cell_type": "code",
      "source": [
        "#Week-3 GPA3\n",
        "x, y = 0, 0  \n",
        "seq = input()\n",
        "while seq != 'STOP':\n",
        "    if seq == 'UP':\n",
        "        y += 1\n",
        "    if seq == 'DOWN':\n",
        "        y -= 1\n",
        "    if seq == 'LEFT':\n",
        "        x -= 1\n",
        "    if seq == 'RIGHT':\n",
        "        x += 1\n",
        "    seq = input()\n",
        "dist = abs(x) + abs(y)\n",
        "print(dist)"
      ],
      "metadata": {
        "id": "fDFbZwUbc644"
      },
      "execution_count": null,
      "outputs": []
    },
    {
      "cell_type": "code",
      "source": [
        "#Week-3 GPA4\n",
        "text = input().lower()\n",
        "length = len(text)\n",
        "output_string = '' \n",
        "for char in 'abcdefghijklmnopqrstuvwxyz':\n",
        "    for i in range(0, length):\n",
        "        if char == text[i]:\n",
        "            output_string += char\n",
        "print(output_string)"
      ],
      "metadata": {
        "id": "G0i1GwSBdBNW"
      },
      "execution_count": null,
      "outputs": []
    },
    {
      "cell_type": "code",
      "source": [
        "#Week-3 GPA5\n",
        "number = input()\n",
        "valid = True\n",
        "if len(number) == 10 and number[0] in '6789':\n",
        "    for digit_index in range(0, 5):\n",
        "        count = number.count(number[digit_index])\n",
        "        if count > 7:\n",
        "            valid = False\n",
        "            break\n",
        "        if 6 * number[digit_index] in number: \n",
        "            valid = False\n",
        "            break\n",
        "else:\n",
        "    valid = False\n",
        "if valid:\n",
        "    print('valid')\n",
        "else:\n",
        "    print('invalid')"
      ],
      "metadata": {
        "id": "K6dToWXLdTsP"
      },
      "execution_count": null,
      "outputs": []
    },
    {
      "cell_type": "code",
      "source": [
        "#Week-3 GPA6\n",
        "n = int(input())\n",
        "\n",
        "for i in range(1, n + 1):\n",
        "    for j in range(1, i + 1):\n",
        "        if j != i:\n",
        "            print(j, end = ',')\n",
        "        else:\n",
        "            print(j)\n",
        "for i in range(n - 1, 0, -1):\n",
        "    for j in range(1, i + 1):\n",
        "        if j != i:\n",
        "            print(j, end = ',')\n",
        "        else:\n",
        "            print(j)"
      ],
      "metadata": {
        "id": "c67_zACOdeQs"
      },
      "execution_count": null,
      "outputs": []
    },
    {
      "cell_type": "markdown",
      "source": [
        "Week-4 GPA"
      ],
      "metadata": {
        "id": "DFFUUcltjnOv"
      }
    },
    {
      "cell_type": "code",
      "source": [
        "#Week-4 GPA-1\n",
        "words = input().split(' ')\n",
        "test = input()\n",
        "\n",
        "if test not in words:\n",
        "    print('NO')\n",
        "else:\n",
        "    print('YES')\n",
        "    count = 0\n",
        "    for word in words:\n",
        "        if test == word:\n",
        "            count += 1            \n",
        "    print(count)"
      ],
      "metadata": {
        "id": "5ZQEsDfxdkC0"
      },
      "execution_count": null,
      "outputs": []
    },
    {
      "cell_type": "code",
      "source": [
        "#Week-4 GPA-2\n",
        "def solution(marks):\n",
        "    while marks != [ ]:\n",
        "        min_mark = marks[0]\n",
        "        for mark in marks:\n",
        "            if mark < min_mark:\n",
        "                min_mark = mark\n",
        "        marks.remove(min_mark)\n",
        "        sorted_marks.append(min_mark)\n",
        "\n",
        "    n = len(sorted_marks)\n",
        "    if n % 2 != 0:\n",
        "        mid = n // 2\n",
        "        median = sorted_marks[mid] \n",
        "\n",
        "    else:\n",
        "        mid2 = n // 2\n",
        "        mid1 = mid2 - 1\n",
        "        median = (sorted_marks[mid1] + sorted_marks[mid2]) / 2\n",
        "    return median"
      ],
      "metadata": {
        "id": "x_nhw-nVdyGB"
      },
      "execution_count": null,
      "outputs": []
    },
    {
      "cell_type": "code",
      "source": [
        "#Week-4 GPA-3\n",
        "n = int(input())\n",
        "\n",
        "A = [ ]\n",
        "for i in range(n):\n",
        "    row = [ ]\n",
        "    for x in input().split(','):\n",
        "        row.append(int(x))\n",
        "    A.append(row)\n",
        "\n",
        "B = [ ]\n",
        "for i in range(n):\n",
        "    row = [ ]\n",
        "    for x in input().split(','):\n",
        "        row.append(int(x))\n",
        "    B.append(row)\n",
        "\n",
        "C = [ ]\n",
        "for i in range(n):\n",
        "    row = [ ]\n",
        "    for j in range(n):\n",
        "        row.append(0)\n",
        "    C.append(row)\n",
        "\n",
        "for i in range(n):\n",
        "    for j in range(n):\n",
        "        for k in range(n):\n",
        "            C[i][j] += A[i][k] * B[k][j]\n",
        "        if j != n - 1:\n",
        "            print(C[i][j], end = ',')\n",
        "        else:\n",
        "            print(C[i][j])"
      ],
      "metadata": {
        "id": "ALtP4-rGeAP5"
      },
      "execution_count": null,
      "outputs": []
    },
    {
      "cell_type": "code",
      "source": [
        "#Week-4 GPA-4\n",
        "names = input().split(',')\n",
        "bdays = input().split(',')\n",
        "n = len(names)\n",
        "for i in range(n):\n",
        "    bdays[i] = int(bdays[i])\n",
        "\n",
        "common = [ ]\n",
        "for i in range(n):\n",
        "    for j in range(n):\n",
        "        if ((i != j) and\n",
        "            (bdays[i] == bdays[j]) and\n",
        "            names[i] < names[j]):\n",
        "            pair = [names[i], names[j]]\n",
        "            common.append(pair)"
      ],
      "metadata": {
        "id": "cKYk6_OFeTJx"
      },
      "execution_count": null,
      "outputs": []
    },
    {
      "cell_type": "code",
      "source": [
        "#Week-4 GPA-5\n",
        "n = int(input())\n",
        "L = [ ]\n",
        "for i in range(n):\n",
        "    L.append(input())\n",
        "\n",
        "point = input().split(',')\n",
        "x = int(point[0])\n",
        "y = int(point[1])\n",
        "\n",
        "min_list = []\n",
        "min_dist = 1000\n",
        "for i in range(n):\n",
        "    temp = L[i].split(',')\n",
        "    temp_x = int(temp[0])\n",
        "    temp_y = int(temp[1])\n",
        "    dist = ((x - temp_x) ** 2 + (y - temp_y) ** 2) ** 0.5\n",
        "    if (dist < min_dist):\n",
        "        min_dist = dist\n",
        "        min_list = [L[i]]\n",
        "    elif dist == min_dist:\n",
        "        min_list.append(L[i])\n",
        "for point in min_list:\n",
        "    print(point)"
      ],
      "metadata": {
        "id": "WOhaelyKeb4k"
      },
      "execution_count": null,
      "outputs": []
    },
    {
      "cell_type": "markdown",
      "source": [
        "Week-5 GPA"
      ],
      "metadata": {
        "id": "ByP49lErjwc_"
      }
    },
    {
      "cell_type": "code",
      "source": [
        "#Week-5 GPA-1\n",
        "def get_range(L):\n",
        "    list = L\n",
        "    list.sort()\n",
        "    range = list[-1] -list[0]\n",
        "    return(range)"
      ],
      "metadata": {
        "id": "r09T1ukEeroG"
      },
      "execution_count": null,
      "outputs": []
    },
    {
      "cell_type": "code",
      "source": [
        "#Week-5 GPA-2\n",
        "def is_perfect(n):\n",
        "    divisor_sum = 0\n",
        "    for fac in range(1,n):\n",
        "        if n % fac == 0:\n",
        "            divisor_sum = divisor_sum + fac\n",
        "    if divisor_sum == n:\n",
        "        return(True)\n",
        "    else:\n",
        "        return(False)\n",
        "\n",
        "print(is_perfect(int(input())))"
      ],
      "metadata": {
        "id": "iBn2RHK4ey0h"
      },
      "execution_count": null,
      "outputs": []
    },
    {
      "cell_type": "code",
      "source": [
        "#Week-5 GPA-3\n",
        "def distance(word_1, word_2):\n",
        "    if len(word_1) == len(word_2):\n",
        "        range_of_letters = \"abcdefghijklmnopqrstuvwxyz\"\n",
        "        index_w1 = []\n",
        "        index_w2 = []\n",
        "        word_distance = 0\n",
        "    \n",
        "        for i in word_1:\n",
        "            for j in range(len(range_of_letters)):\n",
        "                if i == range_of_letters[j]:\n",
        "                    index_w1.append(j)\n",
        "        for i in word_2:\n",
        "            for j in range(len(range_of_letters)):\n",
        "                if i == range_of_letters[j]:\n",
        "                    index_w2.append(j)\n",
        "\n",
        "        for i in range(len(index_w1)):\n",
        "            word_distance = word_distance + abs(index_w1[i] - index_w2[i])\n",
        "        return (word_distance)\n",
        "    else:\n",
        "        return(-1)\n"
      ],
      "metadata": {
        "id": "-XyOZMfQe2wt"
      },
      "execution_count": null,
      "outputs": []
    },
    {
      "cell_type": "code",
      "source": [
        "#Week-5 GPA-4\n",
        "def is_magic(mat):\n",
        "    n = len(mat)\n",
        "    d1 = 0\n",
        "    d2 = 0\n",
        "    for i in range(n):\n",
        "        d1 = d1 + mat[i][i]\n",
        "        d2 = d2 + mat[i][n-i-1]\n",
        "    if not(d1 == d2):\n",
        "        return \"NO\"\n",
        "\n",
        "    for i in range(n):\n",
        "        sum_row = 0\n",
        "        sum_col = 0\n",
        "        for j in range(n):\n",
        "            sum_row = sum_row +mat[i][j]\n",
        "            sum_col = sum_col + mat[j][i]\n",
        "        if not(sum_row == sum_col == d1):\n",
        "            return \"NO\"\n",
        "    return \"YES\""
      ],
      "metadata": {
        "id": "MWZKgDlxe6ix"
      },
      "execution_count": null,
      "outputs": []
    },
    {
      "cell_type": "code",
      "source": [
        "#Week-5 GPA-5\n",
        "def transpose(mat):\n",
        "    row = len(mat)\n",
        "    col = len(mat[0])\n",
        "    transpose = [[mat[j][i] for j in range(row)] for i in range(col)]\n",
        "\n",
        "    return transpose\n"
      ],
      "metadata": {
        "id": "Zyj7916ke-Qp"
      },
      "execution_count": null,
      "outputs": []
    },
    {
      "cell_type": "markdown",
      "source": [
        "Week-6 GPA"
      ],
      "metadata": {
        "id": "SH5dyxUOj5U5"
      }
    },
    {
      "cell_type": "code",
      "source": [
        "#Week-6 GPA-1\n",
        "def get_marks(scores_dataset, subject, gender):\n",
        "    L = [ ]\n",
        "    for student in scores_dataset:\n",
        "        if student['Gender'] == gender:\n",
        "            marks = student[subject]\n",
        "            name = student['Name']\n",
        "            L.append((name, marks))\n",
        "    return L\n",
        "\n",
        "def get_toppers(scores_dataset, subject, gender):\n",
        "    L = get_marks(scores_dataset, subject, gender)\n",
        "    toppers = [ ]\n",
        "    maxmarks = 0\n",
        "    for i in range(len(L)):\n",
        "        if L[i][1] > maxmarks:\n",
        "            maxmarks = L[i][1]\n",
        "            toppers = [L[i][0]]\n",
        "        elif L[i][1] == maxmarks:\n",
        "            toppers.append(L[i][0])\n",
        "    return toppers"
      ],
      "metadata": {
        "id": "5sA13WDWfCZl"
      },
      "execution_count": null,
      "outputs": []
    },
    {
      "cell_type": "code",
      "source": [
        "#Week-6 GPA-2\n",
        "def freq_to_words(words):\n",
        "    freq_words = {}\n",
        "    unique_word = []\n",
        "    words_count = []\n",
        "\n",
        "    for word in words:\n",
        "        if word not in unique_word:\n",
        "            unique_word.append(word)\n",
        "            words_count.append(words.count(word))\n",
        "\n",
        "    for i in range(len(words_count)):\n",
        "        key = words_count[i]\n",
        "        value = [unique_word[i]]\n",
        "        freq_words[key] = value\n",
        "        for j in range(len(words_count)):\n",
        "            if words_count[i] == words_count[j] and i != j:\n",
        "                freq_words[key].append(unique_word[j])\n",
        "        \n",
        "\n",
        "    return freq_words"
      ],
      "metadata": {
        "id": "jSInfXbCkUTT"
      },
      "execution_count": null,
      "outputs": []
    },
    {
      "cell_type": "code",
      "source": [
        "#Week-6 GPA-3\n",
        "def rotate(mat):\n",
        "  m = len(mat)\n",
        "  n = len(mat[0])\n",
        "  rot_mat = [[mat[j][i] for j in range(len(mat))] for i in range(len(mat[0]))]\n",
        "\n",
        "  for i in range(n):\n",
        "    low = 0\n",
        "    high = m-1\n",
        "    while low < high:\n",
        "      rot_mat[i][low], rot_mat[i][high] = rot_mat[i][high], rot_mat[i][low]\n",
        "      low = low + 1\n",
        "      high = high -1\n",
        "\n",
        "  return rot_mat"
      ],
      "metadata": {
        "id": "Sd18U4idkZof"
      },
      "execution_count": null,
      "outputs": []
    },
    {
      "cell_type": "code",
      "source": [
        "#Week-6 GPA-4\n",
        "def two_level_sort(scores):\n",
        "    sorted_scores = scores\n",
        "  \n",
        "    for i in range(len(scores)):\n",
        "        for j in range(i+1,len(scores)):\n",
        "            if sorted_scores[j][1] < sorted_scores[i][1]:\n",
        "                sorted_scores[i], sorted_scores[j] = sorted_scores[j], sorted_scores[i]\n",
        "\n",
        "    for i in range(len(scores)):\n",
        "        for j in range(i+1, len(scores)):\n",
        "            if sorted_scores[i][1] == sorted_scores[j][1]:\n",
        "                if sorted_scores[j][0] < sorted_scores[i][0]:\n",
        "                    sorted_scores[i], sorted_scores[j] = sorted_scores[j], sorted_scores[i]\n",
        "\n",
        "    return sorted_scores"
      ],
      "metadata": {
        "id": "rh2xK4NBkdho"
      },
      "execution_count": null,
      "outputs": []
    },
    {
      "cell_type": "markdown",
      "source": [
        "Week-7 GPA"
      ],
      "metadata": {
        "id": "PZ6tbRfCkpBS"
      }
    },
    {
      "cell_type": "code",
      "source": [
        "#week-7 GPA-1\n",
        "results = [ ]\n",
        "for i in range(8):\n",
        "    L = input().split(',')\n",
        "    winner = L[0]\n",
        "    losers = L[1: ]\n",
        "    results.append((winner, len(losers)))\n",
        "\n",
        "table = [ ]\n",
        "while results != [ ]:\n",
        "    maxteam = results[0]\n",
        "    for i in range(len(results)):\n",
        "        team = results[i]\n",
        "        if team[1] > maxteam[1]:\n",
        "            maxteam = team\n",
        "        elif team[1] == maxteam[1] and team[0] < maxteam[0]:\n",
        "            maxteam = team\n",
        "    results.remove(maxteam)\n",
        "    table.append(maxteam)\n",
        "\n",
        "for team in table:\n",
        "    print(f'{team[0]}:{team[1]}')"
      ],
      "metadata": {
        "id": "em5gGjHrkqoE"
      },
      "execution_count": null,
      "outputs": []
    },
    {
      "cell_type": "code",
      "source": [
        "#week-7 GPA-2\n",
        "def merge(D1, D2, priority):\n",
        "  D = {}\n",
        "  for i in D1:\n",
        "    if i not in D:\n",
        "     D[i] = D1[i]\n",
        "\n",
        "  for i in D2:\n",
        "    if i in D:\n",
        "      if priority == \"second\":\n",
        "        D[i] = D2[i]\n",
        "    else:\n",
        "        D[i] = D2[i]\n",
        "  return D"
      ],
      "metadata": {
        "id": "eWFweucIk4XK"
      },
      "execution_count": null,
      "outputs": []
    },
    {
      "cell_type": "code",
      "source": [
        "#week-7 GPA-3\n",
        "def minor_matrix(M, i, j):\n",
        "    M.pop(i)\n",
        "    n = len(M)\n",
        "    for row in range(n):\n",
        "        for col in range(n):\n",
        "            if col == j:\n",
        "                M[row].pop(col)\n",
        "    return M"
      ],
      "metadata": {
        "id": "TMKZFCxkk8VK"
      },
      "execution_count": null,
      "outputs": []
    },
    {
      "cell_type": "code",
      "source": [
        "#week-7 GPA-4\n",
        "n = int(input())\n",
        "station_dict = dict()\n",
        "\n",
        "while n > 0:\n",
        "    train = input()\n",
        "    num_comps = int(input())\n",
        "    train_dict = dict()\n",
        "    for i in range(num_comps):\n",
        "        comp, count = input().split(',')\n",
        "        train_dict[comp] = int(count)\n",
        "    station_dict[train] = train_dict\n",
        "    n = n - 1"
      ],
      "metadata": {
        "id": "PUGHikhnk_wE"
      },
      "execution_count": null,
      "outputs": []
    },
    {
      "cell_type": "markdown",
      "source": [
        "Week-8 GPA"
      ],
      "metadata": {
        "id": "XKyUGpwGlO1R"
      }
    },
    {
      "cell_type": "code",
      "source": [
        "#Week-8 GPA-1\n",
        "def reverse(L):\n",
        "  if len(L) == 0 or len(L) == 1:\n",
        "    return L\n",
        "  if len(L) == 2:\n",
        "    L[0], L[1] = L[1] , L[0]\n",
        "    return L\n",
        "  return reverse(L[len(L)//2 : len(L)]) + reverse(L[0 : len(L)//2])"
      ],
      "metadata": {
        "id": "jOEMKWuGlP2F"
      },
      "execution_count": null,
      "outputs": []
    },
    {
      "cell_type": "code",
      "source": [
        "#Week-8 GPA-2\n",
        "def linear(P, Q, k):\n",
        "  if len(P) != len(Q):\n",
        "    return False\n",
        "  if len(P) == 1:\n",
        "    if P[0] // Q[0] == k:\n",
        "      return True\n",
        "    else:\n",
        "      return False\n",
        "  return linear(P[0:len(P)//2],Q[0:len(Q)//2],k) and linear(P[len(P)//2 : len(P)],Q[len(Q)//2 : len(Q)],k)"
      ],
      "metadata": {
        "id": "dWd0Upn4laTp"
      },
      "execution_count": null,
      "outputs": []
    },
    {
      "cell_type": "code",
      "source": [
        "#Week-8 GPA-3\n",
        "def collatz(n):\n",
        "  if n == 1:\n",
        "    return 0 \n",
        "  if n % 2 == 0:\n",
        "    return 1 + collatz(n//2)\n",
        "  if n % 2 != 0:\n",
        "    return 1 + collatz((3*n) + 1)"
      ],
      "metadata": {
        "id": "52B9RS02ldpC"
      },
      "execution_count": null,
      "outputs": []
    },
    {
      "cell_type": "code",
      "source": [
        "#Week-8 GPA-4\n",
        "def steps(n):\n",
        "    if n == 1:\n",
        "        return n\n",
        "    if 1 < n <= 4 :\n",
        "        return steps(n-1) + (n-1)\n",
        "    return steps(n-1) + steps(n-2) +steps(n-3)"
      ],
      "metadata": {
        "id": "Mb0NB_Xllhwu"
      },
      "execution_count": null,
      "outputs": []
    },
    {
      "cell_type": "code",
      "source": [
        "#Week-8 GPA-5\n",
        "def ancestry(P, present, past):\n",
        "    if P[present] == past:\n",
        "        return [present,past]\n",
        "    return [present] + ancestry(P,P[present],past)"
      ],
      "metadata": {
        "id": "WPV0OW8hlk_3"
      },
      "execution_count": null,
      "outputs": []
    },
    {
      "cell_type": "markdown",
      "source": [
        "Week-9 GPA"
      ],
      "metadata": {
        "id": "3ecC3WVulzZA"
      }
    },
    {
      "cell_type": "code",
      "source": [
        "#Week-9 GPA-1\n",
        "def get_freq(filename):\n",
        "  recur_count = {}\n",
        "  f = open(filename,'r')\n",
        "  for line in f:\n",
        "    word = line.strip()\n",
        "    if word not in recur_count.keys():\n",
        "      recur_count[word] = 1\n",
        "    else:\n",
        "      recur_count[word] += 1\n",
        "  \n",
        "  f.close()\n",
        "  return recur_count"
      ],
      "metadata": {
        "id": "E5spZ1Mtl0wL"
      },
      "execution_count": null,
      "outputs": []
    },
    {
      "cell_type": "code",
      "source": [
        "#Week-9 GPA-2\n",
        "def relation(file1, file2):\n",
        "    f1 = open(file1,'r')\n",
        "    f2 = open(file2,'r')\n",
        "    c1 = f1.readlines()\n",
        "    c2 = f2.readlines()\n",
        "    equal = True\n",
        "    subset = True\n",
        "    if len(c1) == len(c2):\n",
        "        for i in range (len(c1)):\n",
        "            if c1[i].strip() != c2[i].strip():\n",
        "                equal = False\n",
        "        if equal:\n",
        "            return \"Equal\"\n",
        "    if len(c1) != len(c2):\n",
        "        for i in range (len(c1)):\n",
        "            if c1[i].strip() != c2[i].strip():\n",
        "                subset = False\n",
        "        if subset:\n",
        "            return \"Subset\"\n",
        "    f1.close()\n",
        "    f2.close()\n",
        "    if not equal or not subset:\n",
        "        return \"No Relation\""
      ],
      "metadata": {
        "id": "v7bmFyn8l6E9"
      },
      "execution_count": null,
      "outputs": []
    },
    {
      "cell_type": "code",
      "source": [
        "#Week-9 GPA-3\n",
        "def get_goals(filename, country):\n",
        "    f = open(filename, 'r')\n",
        "    f.readline()\n",
        "    (num_players, num_goals) = (0,0)\n",
        "    \n",
        "    for line in f:\n",
        "        name, nationality, goals = line.strip().split(',')\n",
        "        goals = int(goals)\n",
        "        if nationality == country:\n",
        "            num_players += 1\n",
        "            num_goals += goals\n",
        "    f.close()\n",
        "    if (num_players, num_goals) == (0,0):\n",
        "        return (-1,-1)\n",
        "    else:\n",
        "        return (num_players, num_goals)"
      ],
      "metadata": {
        "id": "pb2ZfWFml-mD"
      },
      "execution_count": null,
      "outputs": []
    },
    {
      "cell_type": "code",
      "source": [
        "#Week-9 GPA-4\n",
        "def num_to_words(mat):\n",
        "    f = open('words.csv', 'w')\n",
        "    n = len(mat)\n",
        "    num = ['zero','one','two','three','four','five','six','seven','eight','nine']\n",
        "    \n",
        "    for row in range(n):\n",
        "        for col in range(n):\n",
        "            a = mat[row][col]\n",
        "            line = f'{num[a]}'\n",
        "            if col != n-1:\n",
        "                line = line +','\n",
        "            if col == n-1:\n",
        "                line = line +'\\n'\n",
        "            f.write(line)\n",
        "    f.close()"
      ],
      "metadata": {
        "id": "l2EBuT1jmJHx"
      },
      "execution_count": null,
      "outputs": []
    }
  ]
}